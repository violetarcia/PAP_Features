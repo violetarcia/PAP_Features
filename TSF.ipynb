{
 "cells": [
  {
   "cell_type": "markdown",
   "metadata": {},
   "source": [
    "<div style=\"text-align:center\"><span style=\"color:#800000; font-family:Georgia; font-size:2.4em;\"> Proyecto de Aplicación Profesional </span></div>\n",
    "\n",
    "<img style=\"float: right; margin: auto;\" src=\"https://www.ambulante.org/wp-content/uploads/2019/03/logos_web_Jalisco_ITESOJesuita.png\" width=\"350\" height=\"220\" />\n",
    "\n",
    "> <b> <p style = \"font-family: Palatino; font-size:0.8em; color: #008080;\" > Violeta | Mariana </p> <b/>\n",
    "\n",
    "<i> <p style = \"font-family: Calibri Light; font-size:1.1em;color:black;\"> Caracteristicas de Series de Tiempo </p> <i/>"
   ]
  },
  {
   "cell_type": "code",
   "execution_count": 5,
   "metadata": {},
   "outputs": [],
   "source": [
    "import pandas as pd\n",
    "import funciones as fn"
   ]
  },
  {
   "cell_type": "markdown",
   "metadata": {},
   "source": [
    "# Time Series\n",
    "Una serie de tiempo o serie temporal es una secuencia de datos, observaciones o valores, medidos en determinados momentos y ordenados cronológicamente. Los datos pueden estar espaciados a intervalos iguales o desiguales."
   ]
  },
  {
   "cell_type": "code",
   "execution_count": 8,
   "metadata": {},
   "outputs": [
    {
     "data": {
      "text/plain": [
       "0       1.12275\n",
       "1       1.12288\n",
       "2       1.12268\n",
       "3       1.12212\n",
       "4       1.12276\n",
       "         ...   \n",
       "2616    1.11040\n",
       "2617    1.11030\n",
       "2618    1.11065\n",
       "2619    1.11076\n",
       "2620    1.11077\n",
       "Name: Close, Length: 2621, dtype: float64"
      ]
     },
     "execution_count": 8,
     "metadata": {},
     "output_type": "execute_result"
    }
   ],
   "source": [
    "# Serie de Tiempo: Ejemplo\n",
    "\n",
    "OA_Ak = '800f1b3f91d7cb0a713c532e17823f6d-f9acd6a21490f97aef649dfd8e723435'\n",
    "OA_In = \"EUR_USD\"                   # Instrumento\n",
    "OA_Gn = \"H1\"                        # Granularidad\n",
    "fini = pd.to_datetime(\"2019-07-06 00:00:00\").tz_localize('GMT')  # Fecha inicial\n",
    "ffin = pd.to_datetime(\"2019-12-06 00:00:00\").tz_localize('GMT')  # Fecha final\n",
    "\n",
    "# Descargar precios masivos\n",
    "df = fn.f_precios_masivos(p0_fini=fini, p1_ffin=ffin, p2_gran=OA_Gn, p3_inst=OA_In, p4_oatk=OA_Ak, p5_ginc=4900)\n",
    "\n",
    "pd.set_option('display.max_rows', 10)\n",
    "\n",
    "\n",
    "serie = df['Close']\n",
    "serie"
   ]
  },
  {
   "cell_type": "code",
   "execution_count": 36,
   "metadata": {},
   "outputs": [
    {
     "data": {
      "text/plain": [
       "count    2621.000000\n",
       "mean        1.108401\n",
       "std         0.008511\n",
       "min         1.088060\n",
       "25%         1.102030\n",
       "50%         1.107700\n",
       "75%         1.114360\n",
       "max         1.128020\n",
       "Name: Close, dtype: float64"
      ]
     },
     "execution_count": 36,
     "metadata": {},
     "output_type": "execute_result"
    }
   ],
   "source": [
    "serie.describe()"
   ]
  },
  {
   "cell_type": "code",
   "execution_count": null,
   "metadata": {},
   "outputs": [],
   "source": []
  },
  {
   "cell_type": "markdown",
   "metadata": {},
   "source": [
    "# Time Series Analysis\n",
    "\n",
    "- Descriptive - \"seeks to summarize a characteristic of a set of data\"\n",
    "- Exploratory - \"analyze the data to see if there are patterns, trends, or relationships between variables\" (hypothesis generating)\n",
    "- Inferential - \"a restatement of this proposed hypothesis as a question and would be answered by analyzing a different set of data\" (hypothesis testing)\n",
    "- Predictive - \"determine the impact on one factor based on other factor in a population - to make a prediction\"\n",
    "- Causal - \"asks whether changing one factor will change another factor in a population - to establish a causal link\"\n",
    "- Mechanistic - \"establish how the change in one factor results in change in another factor in a population - to determine the exact mechanism\"\n",
    "\n",
    "[Link]('https://github.com/rouseguy/TimeSeriesAnalysiswithPython/blob/master/time_series/1-Frame.ipynb')"
   ]
  },
  {
   "cell_type": "markdown",
   "metadata": {},
   "source": [
    "## Stationary\n",
    "Prueba Dickey Fuller\n",
    ">Ho: No es estacionaria \n",
    ">\n",
    ">Hi: Es estacionaria\n",
    "\n",
    "Aceptar Ho si: \n",
    "p_value > 0.05\n",
    "\n",
    "\n",
    "[Link]('https://machinelearningmastery.com/time-series-data-stationary-python/')"
   ]
  },
  {
   "cell_type": "code",
   "execution_count": 21,
   "metadata": {},
   "outputs": [
    {
     "name": "stdout",
     "output_type": "stream",
     "text": [
      "ADF Statistic: -2.466725\n",
      "p-value: 0.123782\n",
      "Critical Values:\n",
      "\t1%: -3.433\n",
      "\t5%: -2.863\n",
      "\t10%: -2.567\n"
     ]
    }
   ],
   "source": [
    "# Stationarity Test\n",
    "import statsmodels.api as sm\n",
    "from statsmodels.tsa.stattools import adfuller\n",
    "\n",
    "def Stationarity(serie):\n",
    "    result = adfuller(serie)\n",
    "    print('ADF Statistic: %f' % result[0])\n",
    "    print('p-value: %f' % result[1])\n",
    "    print('Critical Values:')\n",
    "    for key, value in result[4].items():\n",
    "        print('\\t%s: %.3f' % (key, value))\n",
    "\n",
    "Stationarity(serie)"
   ]
  },
  {
   "cell_type": "markdown",
   "metadata": {},
   "source": [
    "## Autocorrelation\n",
    "La prueba de Ljung-Box es un tipo de prueba estadística de si un grupo cualquiera de autocorrelaciones de una serie de tiempo son diferentes de cero.\n",
    "\n",
    "*Se puede definir de la siguiente manera.*\n",
    "\n",
    ">H0: Los datos se distribuyen de forma independiente (es decir, las correlaciones en la población de la que se toma la muestra son 0, de modo que cualquier correlación observada en los datos es el resultado de la aleatoriedad del proceso de muestreo).\n",
    ">\n",
    ">Ha: Los datos no se distribuyen de forma independiente."
   ]
  },
  {
   "cell_type": "code",
   "execution_count": 22,
   "metadata": {},
   "outputs": [
    {
     "data": {
      "text/plain": [
       "(array([ 2602.73949408,  5186.0885978 ,  7750.49288148, 10295.9963108 ,\n",
       "        12823.98960234, 15334.25439518, 17826.72267627, 20302.51511634,\n",
       "        22761.93540785, 25205.22236127, 27631.95218942, 30041.96452895,\n",
       "        32435.50386828, 34813.33120335, 37176.05296689, 39523.43690303,\n",
       "        41855.35347134, 44171.97703692, 46472.71492204, 48757.97838646,\n",
       "        51026.73291771, 53278.80428838, 55514.91668778, 57733.44792848,\n",
       "        59934.26362464, 62115.87686895, 64278.134478  , 66421.63221022,\n",
       "        68547.73767348, 70657.85875759, 72752.34210127, 74831.53908247,\n",
       "        76896.16225483, 78946.27055224, 80981.07763759, 83001.00319595,\n",
       "        85005.69907745, 86995.41727608, 88970.46177851, 90930.73519126]),\n",
       " array([0., 0., 0., 0., 0., 0., 0., 0., 0., 0., 0., 0., 0., 0., 0., 0., 0.,\n",
       "        0., 0., 0., 0., 0., 0., 0., 0., 0., 0., 0., 0., 0., 0., 0., 0., 0.,\n",
       "        0., 0., 0., 0., 0., 0.]))"
      ]
     },
     "execution_count": 22,
     "metadata": {},
     "output_type": "execute_result"
    }
   ],
   "source": [
    "def Autocorrelation(serie):\n",
    "    #res = sm.tsa.ARMA(serie, (1,1)).fit(disp=-1)\n",
    "    #sm.stats.acorr_ljungbox(res.resid, lags=[10], return_df=True)\n",
    "    ibva, pva = sm.stats.diagnostic.acorr_ljungbox(serie, lags=None, boxpierce=False)\n",
    "    return ibva,pva\n",
    "Autocorrelation(serie)"
   ]
  },
  {
   "cell_type": "code",
   "execution_count": null,
   "metadata": {},
   "outputs": [],
   "source": [
    "def autocorr(serie_a, serie_b):\n",
    "    result = numpy.correlate(serie_a, serie_b mode='full')\n",
    "    return result[result.size/2:]"
   ]
  },
  {
   "cell_type": "markdown",
   "metadata": {},
   "source": [
    "## Normal\n",
    "Prueba de Kolmogorov-Smirnov\n",
    "es una prueba no paramétrica que determina la bondad de ajuste de dos distribuciones de probabilidad entre sí."
   ]
  },
  {
   "cell_type": "code",
   "execution_count": 29,
   "metadata": {},
   "outputs": [
    {
     "name": "stdout",
     "output_type": "stream",
     "text": [
      "p value for norm = 6.789048675755803e-07\n"
     ]
    }
   ],
   "source": [
    "import scipy.stats as st\n",
    "def Kolmogrov_Test(serie):\n",
    "    param = st.norm.fit(serie)\n",
    "    D, p = st.kstest(serie, 'norm', args=param)\n",
    "    print(\"p value for \" + 'norm' + \" = \"+str(p))\n",
    "Kolmogrov_Test(serie)"
   ]
  },
  {
   "cell_type": "markdown",
   "metadata": {},
   "source": [
    "[Normal]('https://docs.scipy.org/doc/scipy-0.14.0/reference/generated/scipy.stats.mstats.normaltest.html')"
   ]
  },
  {
   "cell_type": "code",
   "execution_count": 33,
   "metadata": {},
   "outputs": [
    {
     "name": "stdout",
     "output_type": "stream",
     "text": [
      "NormaltestResult(statistic=86.24250174972434, pvalue=1.873607828223265e-19)\n"
     ]
    }
   ],
   "source": [
    "def Normal_Test(serie):\n",
    "    print(st.mstats.normaltest(serie))\n",
    "    \n",
    "Normal_Test(serie)"
   ]
  },
  {
   "cell_type": "markdown",
   "metadata": {},
   "source": [
    "## Moving Average"
   ]
  },
  {
   "cell_type": "code",
   "execution_count": null,
   "metadata": {},
   "outputs": [],
   "source": [
    "# Ventanas moviles\n",
    "def Movil_Wind_DS(serie, w):\n",
    "    vol  = serie.rolling(window = w).std()\n",
    "    return vol\n",
    "    \n",
    "def Movil_Wind_Mean(serie, w):\n",
    "    vol  = serie.rolling(window = w).mean()\n",
    "    return vol\n",
    "    "
   ]
  },
  {
   "cell_type": "markdown",
   "metadata": {},
   "source": [
    "# Feature Engineering\n",
    "Ejem:\n",
    "\n",
    "1. **Feature normalization**\n",
    "\n",
    "\"(min 1 (max (+ (* slope x) intercept) 0))\" : scale feature x with slope and intercept, and normalize to [0,1]\n",
    "\n",
    "2. **Feature combination**\n",
    "\n",
    "\"(‐ (log2 (+ 5 impressions)) (log2 (+ 1 clicks)))\" : combine #impression and #clicks into a smoothed CTR style feature\n",
    "\n",
    "3. **Nonlinear featurization**\n",
    "\n",
    "\"(if (> query_doc_matches 0) 0 1)\" : negation of a query/document matching feature\n",
    "\n",
    "4. **Cascading modeling**\n",
    "\n",
    "\"(sigmoid (+ (+ (..) w1) w0))\" : convert a logistic regression model into a feature\n",
    "\n",
    "5. **Model combination (e.g. combine decision tree and linear regression)**\n",
    "\n",
    "\"(+ (* model1_score w1) (* model2_score w2))\" : combine two model scores into one final score\n",
    "\n",
    "[Link]('https://github.com/linkedin/FeatureFu')"
   ]
  },
  {
   "cell_type": "code",
   "execution_count": null,
   "metadata": {},
   "outputs": [],
   "source": []
  },
  {
   "cell_type": "code",
   "execution_count": null,
   "metadata": {},
   "outputs": [],
   "source": []
  },
  {
   "cell_type": "markdown",
   "metadata": {},
   "source": [
    "import pandas as pd\n",
    "from pmdarima.arima import auto_arima\n",
    "from statsmodels.stats.diagnostic import acorr_ljungbox\n",
    "df = pd.read_csv(\"uschange.csv\")\n",
    "arima_model = auto_arima(y = df['Consumption'], \n",
    "                  exogenous = df[['Income']],\n",
    "                  start_p=1, \n",
    "                  start_q=1,\n",
    "                  max_p=3, \n",
    "                  max_q=3,\n",
    "                  seasonal=False,\n",
    "                  d = None,  \n",
    "                  error_action='ignore',  \n",
    "                  suppress_warnings=True, \n",
    "                  stepwise=False)\n",
    "acorr_ljungbox(arima_model.resid(), lags = 10)"
   ]
  }
 ],
 "metadata": {
  "kernelspec": {
   "display_name": "Python 3",
   "language": "python",
   "name": "python3"
  },
  "language_info": {
   "codemirror_mode": {
    "name": "ipython",
    "version": 3
   },
   "file_extension": ".py",
   "mimetype": "text/x-python",
   "name": "python",
   "nbconvert_exporter": "python",
   "pygments_lexer": "ipython3",
   "version": "3.7.3"
  }
 },
 "nbformat": 4,
 "nbformat_minor": 2
}
