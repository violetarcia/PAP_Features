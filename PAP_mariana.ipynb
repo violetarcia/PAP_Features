{
 "cells": [
  {
   "cell_type": "code",
   "execution_count": null,
   "metadata": {},
   "outputs": [],
   "source": []
  },
  {
   "cell_type": "markdown",
   "metadata": {},
   "source": [
    " # PAP "
   ]
  },
  {
   "cell_type": "markdown",
   "metadata": {},
   "source": [
    "### Mariana López Correa "
   ]
  },
  {
   "cell_type": "markdown",
   "metadata": {},
   "source": [
    "## statsmodel "
   ]
  },
  {
   "cell_type": "markdown",
   "metadata": {},
   "source": [
    "contains model classes and functions that are useful for time series analysis. Basic models include univariate autoregressive models (AR), vector autoregressive models (VAR) and univariate autoregressive moving average models (ARMA). Non-linear models include Markov switching dynamic regression and autoregression. It also includes descriptive statistics for time series, for example autocorrelation, partial autocorrelation function and periodogram, as well as the corresponding theoretical properties of ARMA or related processes. It also includes methods to work with autoregressive and moving average lag-polynomials. Additionally, related statistical tests and some useful helper functions are available."
   ]
  },
  {
   "cell_type": "code",
   "execution_count": null,
   "metadata": {},
   "outputs": [],
   "source": []
  },
  {
   "cell_type": "code",
   "execution_count": 21,
   "metadata": {},
   "outputs": [],
   "source": [
    "import pandas as pd\n",
    "import funciones as fn\n",
    "import numpy as np"
   ]
  },
  {
   "cell_type": "code",
   "execution_count": 11,
   "metadata": {},
   "outputs": [
    {
     "data": {
      "text/html": [
       "<div>\n",
       "<style scoped>\n",
       "    .dataframe tbody tr th:only-of-type {\n",
       "        vertical-align: middle;\n",
       "    }\n",
       "\n",
       "    .dataframe tbody tr th {\n",
       "        vertical-align: top;\n",
       "    }\n",
       "\n",
       "    .dataframe thead th {\n",
       "        text-align: right;\n",
       "    }\n",
       "</style>\n",
       "<table border=\"1\" class=\"dataframe\">\n",
       "  <thead>\n",
       "    <tr style=\"text-align: right;\">\n",
       "      <th></th>\n",
       "      <th>TimeStamp</th>\n",
       "      <th>Open</th>\n",
       "      <th>High</th>\n",
       "      <th>Low</th>\n",
       "      <th>Close</th>\n",
       "    </tr>\n",
       "  </thead>\n",
       "  <tbody>\n",
       "    <tr>\n",
       "      <th>0</th>\n",
       "      <td>2019-07-07 21:00:00</td>\n",
       "      <td>1.12248</td>\n",
       "      <td>1.12275</td>\n",
       "      <td>1.12240</td>\n",
       "      <td>1.12275</td>\n",
       "    </tr>\n",
       "    <tr>\n",
       "      <th>1</th>\n",
       "      <td>2019-07-07 22:00:00</td>\n",
       "      <td>1.12278</td>\n",
       "      <td>1.12292</td>\n",
       "      <td>1.12256</td>\n",
       "      <td>1.12288</td>\n",
       "    </tr>\n",
       "    <tr>\n",
       "      <th>2</th>\n",
       "      <td>2019-07-07 23:00:00</td>\n",
       "      <td>1.12286</td>\n",
       "      <td>1.12286</td>\n",
       "      <td>1.12266</td>\n",
       "      <td>1.12268</td>\n",
       "    </tr>\n",
       "    <tr>\n",
       "      <th>3</th>\n",
       "      <td>2019-07-08 00:00:00</td>\n",
       "      <td>1.12270</td>\n",
       "      <td>1.12298</td>\n",
       "      <td>1.12198</td>\n",
       "      <td>1.12212</td>\n",
       "    </tr>\n",
       "    <tr>\n",
       "      <th>4</th>\n",
       "      <td>2019-07-08 01:00:00</td>\n",
       "      <td>1.12214</td>\n",
       "      <td>1.12283</td>\n",
       "      <td>1.12210</td>\n",
       "      <td>1.12276</td>\n",
       "    </tr>\n",
       "    <tr>\n",
       "      <th>...</th>\n",
       "      <td>...</td>\n",
       "      <td>...</td>\n",
       "      <td>...</td>\n",
       "      <td>...</td>\n",
       "      <td>...</td>\n",
       "    </tr>\n",
       "    <tr>\n",
       "      <th>2616</th>\n",
       "      <td>2019-12-05 23:00:00</td>\n",
       "      <td>1.11043</td>\n",
       "      <td>1.11058</td>\n",
       "      <td>1.11040</td>\n",
       "      <td>1.11040</td>\n",
       "    </tr>\n",
       "    <tr>\n",
       "      <th>2617</th>\n",
       "      <td>2019-12-06 00:00:00</td>\n",
       "      <td>1.11042</td>\n",
       "      <td>1.11055</td>\n",
       "      <td>1.11030</td>\n",
       "      <td>1.11030</td>\n",
       "    </tr>\n",
       "    <tr>\n",
       "      <th>2618</th>\n",
       "      <td>2019-12-06 01:00:00</td>\n",
       "      <td>1.11033</td>\n",
       "      <td>1.11070</td>\n",
       "      <td>1.11033</td>\n",
       "      <td>1.11065</td>\n",
       "    </tr>\n",
       "    <tr>\n",
       "      <th>2619</th>\n",
       "      <td>2019-12-06 02:00:00</td>\n",
       "      <td>1.11068</td>\n",
       "      <td>1.11086</td>\n",
       "      <td>1.11066</td>\n",
       "      <td>1.11076</td>\n",
       "    </tr>\n",
       "    <tr>\n",
       "      <th>2620</th>\n",
       "      <td>2019-12-06 03:00:00</td>\n",
       "      <td>1.11074</td>\n",
       "      <td>1.11090</td>\n",
       "      <td>1.11070</td>\n",
       "      <td>1.11077</td>\n",
       "    </tr>\n",
       "  </tbody>\n",
       "</table>\n",
       "<p>2621 rows × 5 columns</p>\n",
       "</div>"
      ],
      "text/plain": [
       "               TimeStamp     Open     High      Low    Close\n",
       "0    2019-07-07 21:00:00  1.12248  1.12275  1.12240  1.12275\n",
       "1    2019-07-07 22:00:00  1.12278  1.12292  1.12256  1.12288\n",
       "2    2019-07-07 23:00:00  1.12286  1.12286  1.12266  1.12268\n",
       "3    2019-07-08 00:00:00  1.12270  1.12298  1.12198  1.12212\n",
       "4    2019-07-08 01:00:00  1.12214  1.12283  1.12210  1.12276\n",
       "...                  ...      ...      ...      ...      ...\n",
       "2616 2019-12-05 23:00:00  1.11043  1.11058  1.11040  1.11040\n",
       "2617 2019-12-06 00:00:00  1.11042  1.11055  1.11030  1.11030\n",
       "2618 2019-12-06 01:00:00  1.11033  1.11070  1.11033  1.11065\n",
       "2619 2019-12-06 02:00:00  1.11068  1.11086  1.11066  1.11076\n",
       "2620 2019-12-06 03:00:00  1.11074  1.11090  1.11070  1.11077\n",
       "\n",
       "[2621 rows x 5 columns]"
      ]
     },
     "execution_count": 11,
     "metadata": {},
     "output_type": "execute_result"
    }
   ],
   "source": [
    "# Datos necesarios: token de OANDA\n",
    "OA_Ak = '800f1b3f91d7cb0a713c532e17823f6d-f9acd6a21490f97aef649dfd8e723435'\n",
    "OA_In = \"EUR_USD\"                   # Instrumento\n",
    "OA_Gn = \"H1\"                        # Granularidad de velas\n",
    "fini = pd.to_datetime(\"2019-07-06 00:00:00\").tz_localize('GMT')  # Fecha inicial\n",
    "ffin = pd.to_datetime(\"2019-12-06 00:00:00\").tz_localize('GMT')  # Fecha final\n",
    "\n",
    "# Descargar precios masivos\n",
    "df_ = fn.f_precios_masivos(p0_fini=fini, p1_ffin=ffin, p2_gran=OA_Gn, p3_inst=OA_In, p4_oatk=OA_Ak, p5_ginc=4900)\n",
    "\n",
    "pd.set_option('display.max_rows', 10)\n",
    "df_pe = df_.copy()\n",
    "\n",
    "df_pe"
   ]
  },
  {
   "cell_type": "code",
   "execution_count": 15,
   "metadata": {},
   "outputs": [
    {
     "data": {
      "text/html": [
       "<div>\n",
       "<style scoped>\n",
       "    .dataframe tbody tr th:only-of-type {\n",
       "        vertical-align: middle;\n",
       "    }\n",
       "\n",
       "    .dataframe tbody tr th {\n",
       "        vertical-align: top;\n",
       "    }\n",
       "\n",
       "    .dataframe thead th {\n",
       "        text-align: right;\n",
       "    }\n",
       "</style>\n",
       "<table border=\"1\" class=\"dataframe\">\n",
       "  <thead>\n",
       "    <tr style=\"text-align: right;\">\n",
       "      <th></th>\n",
       "      <th>TimeStamp</th>\n",
       "      <th>diferencias</th>\n",
       "    </tr>\n",
       "  </thead>\n",
       "  <tbody>\n",
       "    <tr>\n",
       "      <th>0</th>\n",
       "      <td>2019-07-07 21:00:00</td>\n",
       "      <td>NaN</td>\n",
       "    </tr>\n",
       "    <tr>\n",
       "      <th>1</th>\n",
       "      <td>2019-07-07 22:00:00</td>\n",
       "      <td>0.000116</td>\n",
       "    </tr>\n",
       "    <tr>\n",
       "      <th>2</th>\n",
       "      <td>2019-07-07 23:00:00</td>\n",
       "      <td>-0.000178</td>\n",
       "    </tr>\n",
       "    <tr>\n",
       "      <th>3</th>\n",
       "      <td>2019-07-08 00:00:00</td>\n",
       "      <td>-0.000499</td>\n",
       "    </tr>\n",
       "    <tr>\n",
       "      <th>4</th>\n",
       "      <td>2019-07-08 01:00:00</td>\n",
       "      <td>0.000570</td>\n",
       "    </tr>\n",
       "    <tr>\n",
       "      <th>...</th>\n",
       "      <td>...</td>\n",
       "      <td>...</td>\n",
       "    </tr>\n",
       "    <tr>\n",
       "      <th>2616</th>\n",
       "      <td>2019-12-05 23:00:00</td>\n",
       "      <td>-0.000009</td>\n",
       "    </tr>\n",
       "    <tr>\n",
       "      <th>2617</th>\n",
       "      <td>2019-12-06 00:00:00</td>\n",
       "      <td>-0.000090</td>\n",
       "    </tr>\n",
       "    <tr>\n",
       "      <th>2618</th>\n",
       "      <td>2019-12-06 01:00:00</td>\n",
       "      <td>0.000315</td>\n",
       "    </tr>\n",
       "    <tr>\n",
       "      <th>2619</th>\n",
       "      <td>2019-12-06 02:00:00</td>\n",
       "      <td>0.000099</td>\n",
       "    </tr>\n",
       "    <tr>\n",
       "      <th>2620</th>\n",
       "      <td>2019-12-06 03:00:00</td>\n",
       "      <td>0.000009</td>\n",
       "    </tr>\n",
       "  </tbody>\n",
       "</table>\n",
       "<p>2621 rows × 2 columns</p>\n",
       "</div>"
      ],
      "text/plain": [
       "               TimeStamp  diferencias\n",
       "0    2019-07-07 21:00:00          NaN\n",
       "1    2019-07-07 22:00:00     0.000116\n",
       "2    2019-07-07 23:00:00    -0.000178\n",
       "3    2019-07-08 00:00:00    -0.000499\n",
       "4    2019-07-08 01:00:00     0.000570\n",
       "...                  ...          ...\n",
       "2616 2019-12-05 23:00:00    -0.000009\n",
       "2617 2019-12-06 00:00:00    -0.000090\n",
       "2618 2019-12-06 01:00:00     0.000315\n",
       "2619 2019-12-06 02:00:00     0.000099\n",
       "2620 2019-12-06 03:00:00     0.000009\n",
       "\n",
       "[2621 rows x 2 columns]"
      ]
     },
     "execution_count": 15,
     "metadata": {},
     "output_type": "execute_result"
    }
   ],
   "source": [
    "desplazado = df_pe['Close'].shift(1)\n",
    "variacion_diaria = df_pe['Close'] / df_pe['Close'].shift(1) - 1\n",
    "df_pe['diferencias'] = variacion_diaria\n",
    "df_pe[[\"TimeStamp\",'diferencias']]"
   ]
  },
  {
   "cell_type": "code",
   "execution_count": 19,
   "metadata": {},
   "outputs": [
    {
     "data": {
      "text/plain": [
       "-3.887809792585025e-06"
      ]
     },
     "execution_count": 19,
     "metadata": {},
     "output_type": "execute_result"
    }
   ],
   "source": [
    "media= df_pe['diferencias'].mean()\n",
    "media"
   ]
  },
  {
   "cell_type": "code",
   "execution_count": 27,
   "metadata": {},
   "outputs": [
    {
     "data": {
      "text/plain": [
       "0.0006430115496448223"
      ]
     },
     "execution_count": 27,
     "metadata": {},
     "output_type": "execute_result"
    }
   ],
   "source": [
    "desviacion= np.std(df_pe['diferencias'])\n",
    "desviacion"
   ]
  },
  {
   "cell_type": "code",
   "execution_count": 24,
   "metadata": {},
   "outputs": [
    {
     "data": {
      "text/plain": [
       "4.1346385297663576e-07"
      ]
     },
     "execution_count": 24,
     "metadata": {},
     "output_type": "execute_result"
    }
   ],
   "source": [
    "varianza= np.var(df_pe['diferencias'])\n",
    "varianza"
   ]
  },
  {
   "cell_type": "code",
   "execution_count": 26,
   "metadata": {},
   "outputs": [
    {
     "data": {
      "text/plain": [
       "count    2620.000000\n",
       "mean       -0.000004\n",
       "std         0.000643\n",
       "min        -0.005243\n",
       "25%        -0.000286\n",
       "50%         0.000000\n",
       "75%         0.000253\n",
       "max         0.008149\n",
       "Name: diferencias, dtype: float64"
      ]
     },
     "execution_count": 26,
     "metadata": {},
     "output_type": "execute_result"
    }
   ],
   "source": [
    "df_pe['diferencias'].describe()"
   ]
  },
  {
   "cell_type": "code",
   "execution_count": null,
   "metadata": {},
   "outputs": [],
   "source": []
  }
 ],
 "metadata": {
  "kernelspec": {
   "display_name": "Python 3",
   "language": "python",
   "name": "python3"
  },
  "language_info": {
   "codemirror_mode": {
    "name": "ipython",
    "version": 3
   },
   "file_extension": ".py",
   "mimetype": "text/x-python",
   "name": "python",
   "nbconvert_exporter": "python",
   "pygments_lexer": "ipython3",
   "version": "3.7.1"
  }
 },
 "nbformat": 4,
 "nbformat_minor": 2
}
